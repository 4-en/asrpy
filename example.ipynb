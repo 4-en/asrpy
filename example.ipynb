{
  "nbformat": 4,
  "nbformat_minor": 0,
  "metadata": {
    "colab": {
      "name": "example.ipynb",
      "provenance": [],
      "toc_visible": true,
      "authorship_tag": "ABX9TyP6KLs2l8Lz/J+oByBQUmRb",
      "include_colab_link": true
    },
    "kernelspec": {
      "name": "python3",
      "display_name": "Python 3"
    },
    "language_info": {
      "name": "python"
    }
  },
  "cells": [
    {
      "cell_type": "markdown",
      "metadata": {
        "id": "view-in-github",
        "colab_type": "text"
      },
      "source": [
        "<a href=\"https://colab.research.google.com/github/DiGyt/asrpy/blob/main/example.ipynb\" target=\"_parent\"><img src=\"https://colab.research.google.com/assets/colab-badge.svg\" alt=\"Open In Colab\"/></a>"
      ]
    },
    {
      "cell_type": "markdown",
      "source": [
        "## ASRpy usage Example\n",
        "---\n",
        "\n",
        "This notebook will provide a simple example how to apply the Artifact Subspace Reconstruction method to a MNE-Python raw object.\n",
        "You should be able to run this notebook directly from your browser by clicking on the `Open in Colab` link above.\n",
        "\n",
        "---\n"
      ],
      "metadata": {
        "id": "kZu64K_BNbfv"
      }
    },
    {
      "cell_type": "markdown",
      "source": [
        "First you need to install [ASRpy](https://github.com/DiGyt/asrpy) in your Python environment. If you're not working from a Jupyter Notebook, paste the below line (without the `!`) into your command line."
      ],
      "metadata": {
        "id": "2U1tG1oLRqHy"
      }
    },
    {
      "cell_type": "code",
      "execution_count": 4,
      "metadata": {
        "id": "e5hvs_r0rSGo"
      },
      "outputs": [],
      "source": [
        "!pip install git+https://github.com/DiGyt/asrpy.git -q"
      ]
    },
    {
      "cell_type": "markdown",
      "source": [
        "Now, import all required libraries."
      ],
      "metadata": {
        "id": "ChlsTHS8NeP_"
      }
    },
    {
      "cell_type": "code",
      "source": [
        "# import libraries\n",
        "import mne\n",
        "from mne.datasets import ssvep\n",
        "from asrpy import ASR"
      ],
      "metadata": {
        "id": "QzWMf9ziwAt3"
      },
      "execution_count": 2,
      "outputs": []
    },
    {
      "cell_type": "markdown",
      "source": [
        "Load a raw EEG recording and do some basic preprocessing (resampling, filtering)."
      ],
      "metadata": {
        "id": "YmmhkyLmNelz"
      }
    },
    {
      "cell_type": "code",
      "source": [
        "# Load raw data\n",
        "data_path = ssvep.data_path()\n",
        "raw_fname = str(data_path) + '/sub-02/ses-01/eeg/sub-02_ses-01_task-ssvep_eeg.vhdr'\n",
        "raw = mne.io.read_raw_brainvision(raw_fname, preload=True, verbose=False)\n",
        "\n",
        "# Set montage\n",
        "montage = mne.channels.make_standard_montage('easycap-M1')\n",
        "raw.set_montage(montage, verbose=False)\n",
        "\n",
        "# downsample for faster computation\n",
        "raw.resample(256)\n",
        "\n",
        "# apply a highpass filter from 1 Hz upwards\n",
        "raw.filter(1., None, fir_design='firwin')  # replace baselining with high-pass\n",
        "\n",
        "# Construct epochs\n",
        "event_id = {'12hz': 255, '15hz': 155}\n",
        "events, _ = mne.events_from_annotations(raw, verbose=False)\n",
        "\n",
        "# epoching time frame\n",
        "tmin, tmax = -0.1, 1.5\n",
        "\n",
        "# create an uncleaned average (for comparison purposes)\n",
        "noisy_avg = mne.Epochs(raw, events, event_id, tmin, tmax, proj=False,\n",
        "                           picks=None, baseline=None, preload=True,\n",
        "                           verbose=False).average()"
      ],
      "metadata": {
        "id": "-ozgwPauUN3Y",
        "outputId": "e1ae0fb0-8fb7-4d63-ad76-83a1eee532a1",
        "colab": {
          "base_uri": "https://localhost:8080/"
        }
      },
      "execution_count": 5,
      "outputs": [
        {
          "output_type": "stream",
          "name": "stdout",
          "text": [
            "Filtering raw data in 1 contiguous segment\n",
            "Setting up high-pass filter at 1 Hz\n",
            "\n",
            "FIR filter parameters\n",
            "---------------------\n",
            "Designing a one-pass, zero-phase, non-causal highpass filter:\n",
            "- Windowed time-domain design (firwin) method\n",
            "- Hamming window with 0.0194 passband ripple and 53 dB stopband attenuation\n",
            "- Lower passband edge: 1.00\n",
            "- Lower transition bandwidth: 1.00 Hz (-6 dB cutoff frequency: 0.50 Hz)\n",
            "- Filter length: 845 samples (3.301 sec)\n",
            "\n"
          ]
        },
        {
          "output_type": "stream",
          "name": "stderr",
          "text": [
            "[Parallel(n_jobs=1)]: Using backend SequentialBackend with 1 concurrent workers.\n",
            "[Parallel(n_jobs=1)]: Done   1 out of   1 | elapsed:    0.0s remaining:    0.0s\n",
            "[Parallel(n_jobs=1)]: Done   2 out of   2 | elapsed:    0.0s remaining:    0.0s\n",
            "[Parallel(n_jobs=1)]: Done   3 out of   3 | elapsed:    0.0s remaining:    0.0s\n",
            "[Parallel(n_jobs=1)]: Done   4 out of   4 | elapsed:    0.0s remaining:    0.0s\n",
            "[Parallel(n_jobs=1)]: Done  32 out of  32 | elapsed:    0.3s finished\n"
          ]
        }
      ]
    },
    {
      "cell_type": "markdown",
      "source": [
        "## Use ASRpy with MNE raw objects."
      ],
      "metadata": {
        "id": "jRbNdMwJVitc"
      }
    },
    {
      "cell_type": "markdown",
      "source": [
        "ASRpy is implemented to work directly on MNE Raw data instances. As you can see below, you should be able to apply it to an MNE Raw object without any problems. If you want to fit your ASR on simple numpy arrays instead, please use `asrpy.asr_calibrate` and `asrpy.asr_process` instead."
      ],
      "metadata": {
        "id": "_jP6V5d2Ng1O"
      }
    },
    {
      "cell_type": "code",
      "source": [
        "# Apply the ASR\n",
        "asr = ASR(sfreq=raw.info[\"sfreq\"], cutoff=15)\n",
        "asr.fit(raw)\n",
        "raw = asr.transform(raw)\n",
        "\n",
        "# Create an average using the cleaned data\n",
        "clean_avg = mne.Epochs(raw, events, event_id, -0.1, 1.5, proj=False,\n",
        "                picks=None, baseline=None, preload=True,\n",
        "                verbose=False).average()"
      ],
      "metadata": {
        "id": "cyArj8FiNpx4"
      },
      "execution_count": null,
      "outputs": []
    },
    {
      "cell_type": "markdown",
      "source": [
        "Done. Now we can plot the noisy vs. the clean data in order to compare them."
      ],
      "metadata": {
        "id": "qhk0KPA1NbpD"
      }
    },
    {
      "cell_type": "code",
      "source": [
        "# set y axis limits\n",
        "ylim = dict(eeg=[-10, 20])\n",
        "\n",
        "# Plot image epoch before xdawn\n",
        "noisy_avg.plot(spatial_colors=True, ylim=ylim,\n",
        "               titles=\"before ASR\")\n",
        "\n",
        "# Plot image epoch before xdawn\n",
        "clean_avg.plot(spatial_colors=True, ylim=ylim,\n",
        "               titles=\"after ASR\");"
      ],
      "metadata": {
        "id": "1imLLGvvMv80"
      },
      "execution_count": null,
      "outputs": []
    },
    {
      "cell_type": "markdown",
      "source": [
        "## Use ASRpy with numpy arrays."
      ],
      "metadata": {
        "id": "rw3Bj26pVn8N"
      }
    },
    {
      "cell_type": "markdown",
      "source": [
        "If you are working with numpy arrays of EEG data (instead of MNE objects), you can use the `asr_calibrate` and `asr_process` functions to clean your data."
      ],
      "metadata": {
        "id": "I524RLLMVzDG"
      }
    },
    {
      "cell_type": "code",
      "source": [
        "from asrpy import asr_calibrate, asr_process, clean_windows\n",
        "\n",
        "# create a numpy array of EEG data from the MNE raw object\n",
        "eeg_array = raw.get_data()\n",
        "\n",
        "# extract the sampling frequency from the MNE raw object\n",
        "sfreq = raw.info[\"sfreq\"]\n",
        "\n",
        "# (optional) make sure your asr is only fitted to clean parts of the data\n",
        "pre_cleaned, _ = clean_windows(eeg_array, sfreq, max_bad_chans=0.1)\n",
        "\n",
        "# fit the asr\n",
        "M, T = asr_calibrate(pre_cleaned, sfreq, cutoff=15)\n",
        "\n",
        "# apply it\n",
        "clean_array = asr_process(eeg_array, sfreq, M, T)"
      ],
      "metadata": {
        "id": "LSqyQZ8JWX50"
      },
      "execution_count": null,
      "outputs": []
    }
  ]
}